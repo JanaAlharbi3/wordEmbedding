{
  "nbformat": 4,
  "nbformat_minor": 0,
  "metadata": {
    "colab": {
      "provenance": []
    },
    "kernelspec": {
      "name": "python3",
      "display_name": "Python 3"
    },
    "language_info": {
      "name": "python"
    }
  },
  "cells": [
    {
      "cell_type": "code",
      "execution_count": 40,
      "metadata": {
        "colab": {
          "base_uri": "https://localhost:8080/"
        },
        "id": "G90U2G-xW2kK",
        "outputId": "54e58f75-7ae8-4a25-e0c7-e356b506d84c"
      },
      "outputs": [
        {
          "output_type": "stream",
          "name": "stdout",
          "text": [
            "2.15.0\n"
          ]
        }
      ],
      "source": [
        "import tensorflow as tf\n",
        "print(tf.__version__)"
      ]
    },
    {
      "cell_type": "code",
      "source": [
        "import nltk\n",
        "nltk.download('punkt')"
      ],
      "metadata": {
        "colab": {
          "base_uri": "https://localhost:8080/"
        },
        "id": "lugfF6njYBOg",
        "outputId": "d95cb94e-4eec-41e9-e34f-62beb568eace"
      },
      "execution_count": 41,
      "outputs": [
        {
          "output_type": "stream",
          "name": "stderr",
          "text": [
            "[nltk_data] Downloading package punkt to /root/nltk_data...\n",
            "[nltk_data]   Package punkt is already up-to-date!\n"
          ]
        },
        {
          "output_type": "execute_result",
          "data": {
            "text/plain": [
              "True"
            ]
          },
          "metadata": {},
          "execution_count": 41
        }
      ]
    },
    {
      "cell_type": "code",
      "source": [
        "import nltk\n",
        "import pandas as pd\n",
        "import gensim\n",
        "from gensim.models import Word2Vec , KeyedVectors"
      ],
      "metadata": {
        "id": "cRXh7KBoYMH_"
      },
      "execution_count": 51,
      "outputs": []
    },
    {
      "cell_type": "markdown",
      "source": [
        "# Data preprocessing"
      ],
      "metadata": {
        "id": "RkJ66HLgZBwe"
      }
    },
    {
      "cell_type": "code",
      "source": [
        "# install kaggle api\n",
        "! pip install -q kaggle"
      ],
      "metadata": {
        "id": "HoLyZkf0ZFvb"
      },
      "execution_count": 43,
      "outputs": []
    },
    {
      "cell_type": "code",
      "source": [
        "# create a directory as kaggle\n",
        "! mkdir -p ~/.kaggle"
      ],
      "metadata": {
        "id": "IC4QhEa4fKOO"
      },
      "execution_count": null,
      "outputs": []
    },
    {
      "cell_type": "code",
      "source": [
        "# copy api key to kaggle directory\n",
        "! cp kaggle.json ~/.kaggle"
      ],
      "metadata": {
        "id": "AnGNesapfn63"
      },
      "execution_count": null,
      "outputs": []
    },
    {
      "cell_type": "code",
      "source": [
        "# disble the api key\n",
        "! chmod 600 /root/.kaggle/kaggle.json"
      ],
      "metadata": {
        "id": "j-2O1s9WgC1b"
      },
      "execution_count": null,
      "outputs": []
    },
    {
      "cell_type": "code",
      "source": [
        "# import the dataset\n",
        "! kaggle datasets download -d rootuser/worldnews-on-reddit"
      ],
      "metadata": {
        "id": "7YAQq3BfhFFV"
      },
      "execution_count": null,
      "outputs": []
    },
    {
      "cell_type": "code",
      "source": [
        "# unzip the dataset\n",
        "! unzip /content/worldnews-on-reddit"
      ],
      "metadata": {
        "colab": {
          "base_uri": "https://localhost:8080/"
        },
        "id": "_SrcxRF7hj5i",
        "outputId": "94da47fd-5665-4fcc-8745-eaebae037c3c"
      },
      "execution_count": 32,
      "outputs": [
        {
          "metadata": {
            "tags": null
          },
          "name": "stdout",
          "output_type": "stream",
          "text": [
            "Archive:  /content/worldnews-on-reddit.zip\n",
            "replace reddit_worldnews_start_to_2016-11-22.csv? [y]es, [n]o, [A]ll, [N]one, [r]ename: "
          ]
        }
      ]
    },
    {
      "cell_type": "code",
      "source": [
        "df=pd.read_csv('/content/reddit_worldnews_start_to_2016-11-22.csv')"
      ],
      "metadata": {
        "id": "n9fnatObiZyo"
      },
      "execution_count": 33,
      "outputs": []
    },
    {
      "cell_type": "code",
      "source": [
        "df.head()"
      ],
      "metadata": {
        "colab": {
          "base_uri": "https://localhost:8080/",
          "height": 573
        },
        "id": "SKqKMp62jAlA",
        "outputId": "25a30fe7-b47a-45b5-9c9f-6d4179e2cbcc"
      },
      "execution_count": 44,
      "outputs": [
        {
          "output_type": "execute_result",
          "data": {
            "text/plain": [
              "   time_created date_created  up_votes  down_votes  \\\n",
              "0    1201232046   2008-01-25         3           0   \n",
              "1    1201232075   2008-01-25         2           0   \n",
              "2    1201232523   2008-01-25         3           0   \n",
              "3    1201233290   2008-01-25         1           0   \n",
              "4    1201274720   2008-01-25         4           0   \n",
              "\n",
              "                                             title  over_18    author  \\\n",
              "0                Scores killed in Pakistan clashes    False     polar   \n",
              "1                 Japan resumes refuelling mission    False     polar   \n",
              "2                  US presses Egypt on Gaza border    False     polar   \n",
              "3     Jump-start economy: Give health care to all     False   fadi420   \n",
              "4  Council of Europe bashes EU&UN terror blacklist    False  mhermans   \n",
              "\n",
              "   subreddit  \n",
              "0  worldnews  \n",
              "1  worldnews  \n",
              "2  worldnews  \n",
              "3  worldnews  \n",
              "4  worldnews  "
            ],
            "text/html": [
              "\n",
              "  <div id=\"df-2dea6910-e27e-4777-8bb9-d45cc8772dff\" class=\"colab-df-container\">\n",
              "    <div>\n",
              "<style scoped>\n",
              "    .dataframe tbody tr th:only-of-type {\n",
              "        vertical-align: middle;\n",
              "    }\n",
              "\n",
              "    .dataframe tbody tr th {\n",
              "        vertical-align: top;\n",
              "    }\n",
              "\n",
              "    .dataframe thead th {\n",
              "        text-align: right;\n",
              "    }\n",
              "</style>\n",
              "<table border=\"1\" class=\"dataframe\">\n",
              "  <thead>\n",
              "    <tr style=\"text-align: right;\">\n",
              "      <th></th>\n",
              "      <th>time_created</th>\n",
              "      <th>date_created</th>\n",
              "      <th>up_votes</th>\n",
              "      <th>down_votes</th>\n",
              "      <th>title</th>\n",
              "      <th>over_18</th>\n",
              "      <th>author</th>\n",
              "      <th>subreddit</th>\n",
              "    </tr>\n",
              "  </thead>\n",
              "  <tbody>\n",
              "    <tr>\n",
              "      <th>0</th>\n",
              "      <td>1201232046</td>\n",
              "      <td>2008-01-25</td>\n",
              "      <td>3</td>\n",
              "      <td>0</td>\n",
              "      <td>Scores killed in Pakistan clashes</td>\n",
              "      <td>False</td>\n",
              "      <td>polar</td>\n",
              "      <td>worldnews</td>\n",
              "    </tr>\n",
              "    <tr>\n",
              "      <th>1</th>\n",
              "      <td>1201232075</td>\n",
              "      <td>2008-01-25</td>\n",
              "      <td>2</td>\n",
              "      <td>0</td>\n",
              "      <td>Japan resumes refuelling mission</td>\n",
              "      <td>False</td>\n",
              "      <td>polar</td>\n",
              "      <td>worldnews</td>\n",
              "    </tr>\n",
              "    <tr>\n",
              "      <th>2</th>\n",
              "      <td>1201232523</td>\n",
              "      <td>2008-01-25</td>\n",
              "      <td>3</td>\n",
              "      <td>0</td>\n",
              "      <td>US presses Egypt on Gaza border</td>\n",
              "      <td>False</td>\n",
              "      <td>polar</td>\n",
              "      <td>worldnews</td>\n",
              "    </tr>\n",
              "    <tr>\n",
              "      <th>3</th>\n",
              "      <td>1201233290</td>\n",
              "      <td>2008-01-25</td>\n",
              "      <td>1</td>\n",
              "      <td>0</td>\n",
              "      <td>Jump-start economy: Give health care to all</td>\n",
              "      <td>False</td>\n",
              "      <td>fadi420</td>\n",
              "      <td>worldnews</td>\n",
              "    </tr>\n",
              "    <tr>\n",
              "      <th>4</th>\n",
              "      <td>1201274720</td>\n",
              "      <td>2008-01-25</td>\n",
              "      <td>4</td>\n",
              "      <td>0</td>\n",
              "      <td>Council of Europe bashes EU&amp;UN terror blacklist</td>\n",
              "      <td>False</td>\n",
              "      <td>mhermans</td>\n",
              "      <td>worldnews</td>\n",
              "    </tr>\n",
              "  </tbody>\n",
              "</table>\n",
              "</div>\n",
              "    <div class=\"colab-df-buttons\">\n",
              "\n",
              "  <div class=\"colab-df-container\">\n",
              "    <button class=\"colab-df-convert\" onclick=\"convertToInteractive('df-2dea6910-e27e-4777-8bb9-d45cc8772dff')\"\n",
              "            title=\"Convert this dataframe to an interactive table.\"\n",
              "            style=\"display:none;\">\n",
              "\n",
              "  <svg xmlns=\"http://www.w3.org/2000/svg\" height=\"24px\" viewBox=\"0 -960 960 960\">\n",
              "    <path d=\"M120-120v-720h720v720H120Zm60-500h600v-160H180v160Zm220 220h160v-160H400v160Zm0 220h160v-160H400v160ZM180-400h160v-160H180v160Zm440 0h160v-160H620v160ZM180-180h160v-160H180v160Zm440 0h160v-160H620v160Z\"/>\n",
              "  </svg>\n",
              "    </button>\n",
              "\n",
              "  <style>\n",
              "    .colab-df-container {\n",
              "      display:flex;\n",
              "      gap: 12px;\n",
              "    }\n",
              "\n",
              "    .colab-df-convert {\n",
              "      background-color: #E8F0FE;\n",
              "      border: none;\n",
              "      border-radius: 50%;\n",
              "      cursor: pointer;\n",
              "      display: none;\n",
              "      fill: #1967D2;\n",
              "      height: 32px;\n",
              "      padding: 0 0 0 0;\n",
              "      width: 32px;\n",
              "    }\n",
              "\n",
              "    .colab-df-convert:hover {\n",
              "      background-color: #E2EBFA;\n",
              "      box-shadow: 0px 1px 2px rgba(60, 64, 67, 0.3), 0px 1px 3px 1px rgba(60, 64, 67, 0.15);\n",
              "      fill: #174EA6;\n",
              "    }\n",
              "\n",
              "    .colab-df-buttons div {\n",
              "      margin-bottom: 4px;\n",
              "    }\n",
              "\n",
              "    [theme=dark] .colab-df-convert {\n",
              "      background-color: #3B4455;\n",
              "      fill: #D2E3FC;\n",
              "    }\n",
              "\n",
              "    [theme=dark] .colab-df-convert:hover {\n",
              "      background-color: #434B5C;\n",
              "      box-shadow: 0px 1px 3px 1px rgba(0, 0, 0, 0.15);\n",
              "      filter: drop-shadow(0px 1px 2px rgba(0, 0, 0, 0.3));\n",
              "      fill: #FFFFFF;\n",
              "    }\n",
              "  </style>\n",
              "\n",
              "    <script>\n",
              "      const buttonEl =\n",
              "        document.querySelector('#df-2dea6910-e27e-4777-8bb9-d45cc8772dff button.colab-df-convert');\n",
              "      buttonEl.style.display =\n",
              "        google.colab.kernel.accessAllowed ? 'block' : 'none';\n",
              "\n",
              "      async function convertToInteractive(key) {\n",
              "        const element = document.querySelector('#df-2dea6910-e27e-4777-8bb9-d45cc8772dff');\n",
              "        const dataTable =\n",
              "          await google.colab.kernel.invokeFunction('convertToInteractive',\n",
              "                                                    [key], {});\n",
              "        if (!dataTable) return;\n",
              "\n",
              "        const docLinkHtml = 'Like what you see? Visit the ' +\n",
              "          '<a target=\"_blank\" href=https://colab.research.google.com/notebooks/data_table.ipynb>data table notebook</a>'\n",
              "          + ' to learn more about interactive tables.';\n",
              "        element.innerHTML = '';\n",
              "        dataTable['output_type'] = 'display_data';\n",
              "        await google.colab.output.renderOutput(dataTable, element);\n",
              "        const docLink = document.createElement('div');\n",
              "        docLink.innerHTML = docLinkHtml;\n",
              "        element.appendChild(docLink);\n",
              "      }\n",
              "    </script>\n",
              "  </div>\n",
              "\n",
              "\n",
              "<div id=\"df-511ee156-32d0-43c8-b1b2-9cecf975a8ea\">\n",
              "  <button class=\"colab-df-quickchart\" onclick=\"quickchart('df-511ee156-32d0-43c8-b1b2-9cecf975a8ea')\"\n",
              "            title=\"Suggest charts\"\n",
              "            style=\"display:none;\">\n",
              "\n",
              "<svg xmlns=\"http://www.w3.org/2000/svg\" height=\"24px\"viewBox=\"0 0 24 24\"\n",
              "     width=\"24px\">\n",
              "    <g>\n",
              "        <path d=\"M19 3H5c-1.1 0-2 .9-2 2v14c0 1.1.9 2 2 2h14c1.1 0 2-.9 2-2V5c0-1.1-.9-2-2-2zM9 17H7v-7h2v7zm4 0h-2V7h2v10zm4 0h-2v-4h2v4z\"/>\n",
              "    </g>\n",
              "</svg>\n",
              "  </button>\n",
              "\n",
              "<style>\n",
              "  .colab-df-quickchart {\n",
              "      --bg-color: #E8F0FE;\n",
              "      --fill-color: #1967D2;\n",
              "      --hover-bg-color: #E2EBFA;\n",
              "      --hover-fill-color: #174EA6;\n",
              "      --disabled-fill-color: #AAA;\n",
              "      --disabled-bg-color: #DDD;\n",
              "  }\n",
              "\n",
              "  [theme=dark] .colab-df-quickchart {\n",
              "      --bg-color: #3B4455;\n",
              "      --fill-color: #D2E3FC;\n",
              "      --hover-bg-color: #434B5C;\n",
              "      --hover-fill-color: #FFFFFF;\n",
              "      --disabled-bg-color: #3B4455;\n",
              "      --disabled-fill-color: #666;\n",
              "  }\n",
              "\n",
              "  .colab-df-quickchart {\n",
              "    background-color: var(--bg-color);\n",
              "    border: none;\n",
              "    border-radius: 50%;\n",
              "    cursor: pointer;\n",
              "    display: none;\n",
              "    fill: var(--fill-color);\n",
              "    height: 32px;\n",
              "    padding: 0;\n",
              "    width: 32px;\n",
              "  }\n",
              "\n",
              "  .colab-df-quickchart:hover {\n",
              "    background-color: var(--hover-bg-color);\n",
              "    box-shadow: 0 1px 2px rgba(60, 64, 67, 0.3), 0 1px 3px 1px rgba(60, 64, 67, 0.15);\n",
              "    fill: var(--button-hover-fill-color);\n",
              "  }\n",
              "\n",
              "  .colab-df-quickchart-complete:disabled,\n",
              "  .colab-df-quickchart-complete:disabled:hover {\n",
              "    background-color: var(--disabled-bg-color);\n",
              "    fill: var(--disabled-fill-color);\n",
              "    box-shadow: none;\n",
              "  }\n",
              "\n",
              "  .colab-df-spinner {\n",
              "    border: 2px solid var(--fill-color);\n",
              "    border-color: transparent;\n",
              "    border-bottom-color: var(--fill-color);\n",
              "    animation:\n",
              "      spin 1s steps(1) infinite;\n",
              "  }\n",
              "\n",
              "  @keyframes spin {\n",
              "    0% {\n",
              "      border-color: transparent;\n",
              "      border-bottom-color: var(--fill-color);\n",
              "      border-left-color: var(--fill-color);\n",
              "    }\n",
              "    20% {\n",
              "      border-color: transparent;\n",
              "      border-left-color: var(--fill-color);\n",
              "      border-top-color: var(--fill-color);\n",
              "    }\n",
              "    30% {\n",
              "      border-color: transparent;\n",
              "      border-left-color: var(--fill-color);\n",
              "      border-top-color: var(--fill-color);\n",
              "      border-right-color: var(--fill-color);\n",
              "    }\n",
              "    40% {\n",
              "      border-color: transparent;\n",
              "      border-right-color: var(--fill-color);\n",
              "      border-top-color: var(--fill-color);\n",
              "    }\n",
              "    60% {\n",
              "      border-color: transparent;\n",
              "      border-right-color: var(--fill-color);\n",
              "    }\n",
              "    80% {\n",
              "      border-color: transparent;\n",
              "      border-right-color: var(--fill-color);\n",
              "      border-bottom-color: var(--fill-color);\n",
              "    }\n",
              "    90% {\n",
              "      border-color: transparent;\n",
              "      border-bottom-color: var(--fill-color);\n",
              "    }\n",
              "  }\n",
              "</style>\n",
              "\n",
              "  <script>\n",
              "    async function quickchart(key) {\n",
              "      const quickchartButtonEl =\n",
              "        document.querySelector('#' + key + ' button');\n",
              "      quickchartButtonEl.disabled = true;  // To prevent multiple clicks.\n",
              "      quickchartButtonEl.classList.add('colab-df-spinner');\n",
              "      try {\n",
              "        const charts = await google.colab.kernel.invokeFunction(\n",
              "            'suggestCharts', [key], {});\n",
              "      } catch (error) {\n",
              "        console.error('Error during call to suggestCharts:', error);\n",
              "      }\n",
              "      quickchartButtonEl.classList.remove('colab-df-spinner');\n",
              "      quickchartButtonEl.classList.add('colab-df-quickchart-complete');\n",
              "    }\n",
              "    (() => {\n",
              "      let quickchartButtonEl =\n",
              "        document.querySelector('#df-511ee156-32d0-43c8-b1b2-9cecf975a8ea button');\n",
              "      quickchartButtonEl.style.display =\n",
              "        google.colab.kernel.accessAllowed ? 'block' : 'none';\n",
              "    })();\n",
              "  </script>\n",
              "</div>\n",
              "\n",
              "    </div>\n",
              "  </div>\n"
            ]
          },
          "metadata": {},
          "execution_count": 44
        }
      ]
    },
    {
      "cell_type": "code",
      "source": [
        "# take the titles columns\n",
        "news_title=df['title'].values"
      ],
      "metadata": {
        "id": "Ti7-7wdujT4f"
      },
      "execution_count": 45,
      "outputs": []
    },
    {
      "cell_type": "code",
      "source": [
        "news_title[:2]"
      ],
      "metadata": {
        "colab": {
          "base_uri": "https://localhost:8080/"
        },
        "id": "jMQFiijSjo--",
        "outputId": "0da28b14-20d4-46fc-e4cc-f3c991e0b7d9"
      },
      "execution_count": 46,
      "outputs": [
        {
          "output_type": "execute_result",
          "data": {
            "text/plain": [
              "array(['Scores killed in Pakistan clashes',\n",
              "       'Japan resumes refuelling mission'], dtype=object)"
            ]
          },
          "metadata": {},
          "execution_count": 46
        }
      ]
    },
    {
      "cell_type": "code",
      "source": [
        "# tokenize the words\n",
        "new_vec=[nltk.word_tokenize(title) for title in news_title]"
      ],
      "metadata": {
        "id": "vVtIR_c1jzDa"
      },
      "execution_count": 47,
      "outputs": []
    },
    {
      "cell_type": "code",
      "source": [
        "new_vec[0]"
      ],
      "metadata": {
        "colab": {
          "base_uri": "https://localhost:8080/"
        },
        "id": "0f035ScTlV0J",
        "outputId": "85147f76-b524-495e-b3cb-7cf786e7ee2e"
      },
      "execution_count": 48,
      "outputs": [
        {
          "output_type": "execute_result",
          "data": {
            "text/plain": [
              "['Scores', 'killed', 'in', 'Pakistan', 'clashes']"
            ]
          },
          "metadata": {},
          "execution_count": 48
        }
      ]
    },
    {
      "cell_type": "markdown",
      "source": [
        "# Build the model"
      ],
      "metadata": {
        "id": "SiqTj8BElcC9"
      }
    },
    {
      "cell_type": "code",
      "source": [
        "# we will use Word2vec from gensim to build the model which takes words in our case new_vec and min_count (it means that take the word has min_count in the words so if we put 1 it means take the words which only occurred 1 time) and it take size which mean the vector size\n",
        "model = Word2Vec(sentences=new_vec, min_count=1)\n"
      ],
      "metadata": {
        "id": "B4LExCoxlfpK"
      },
      "execution_count": 53,
      "outputs": []
    },
    {
      "cell_type": "markdown",
      "source": [
        "# Predict"
      ],
      "metadata": {
        "id": "5i0BYmvU0_po"
      }
    },
    {
      "cell_type": "code",
      "source": [
        "# find 10 closest in semantic words in the vector space we have created\n",
        "model.wv.most_similar('man')"
      ],
      "metadata": {
        "id": "YwiwPv5s0-Sq",
        "outputId": "2e7c0ef0-4551-4b00-ff98-b92881381431",
        "colab": {
          "base_uri": "https://localhost:8080/"
        }
      },
      "execution_count": 54,
      "outputs": [
        {
          "output_type": "execute_result",
          "data": {
            "text/plain": [
              "[('woman', 0.9020829796791077),\n",
              " ('teenager', 0.8462957143783569),\n",
              " ('boy', 0.8335787057876587),\n",
              " ('girl', 0.8171567320823669),\n",
              " ('couple', 0.7854200005531311),\n",
              " ('teen', 0.7600728273391724),\n",
              " ('doctor', 0.7535150647163391),\n",
              " ('teacher', 0.7495490908622742),\n",
              " ('mother', 0.7475398182868958),\n",
              " ('policeman', 0.7251240015029907)]"
            ]
          },
          "metadata": {},
          "execution_count": 54
        }
      ]
    },
    {
      "cell_type": "code",
      "source": [
        "# seethe vector\n",
        "model.wv['man']"
      ],
      "metadata": {
        "id": "v2l2lKvw1jQl",
        "outputId": "a76af415-594e-438b-c25b-7cbba9952ce9",
        "colab": {
          "base_uri": "https://localhost:8080/"
        }
      },
      "execution_count": 55,
      "outputs": [
        {
          "output_type": "execute_result",
          "data": {
            "text/plain": [
              "array([ 1.4820398 , -0.89953166, -0.6598049 ,  0.23002377,  1.195402  ,\n",
              "        0.92571646, -1.6708934 , -0.55876225,  0.18695751, -1.7564963 ,\n",
              "       -1.1034384 , -4.258041  , -0.502427  ,  1.2565526 , -1.0343645 ,\n",
              "        1.0308014 , -1.7992734 , -1.0316044 ,  1.1461273 ,  3.2881513 ,\n",
              "        1.0547596 ,  0.9970798 , -1.7661176 , -1.1804792 ,  0.18826547,\n",
              "       -1.964245  ,  1.8533543 ,  1.0655432 , -0.8787464 ,  0.20035782,\n",
              "        2.3584251 , -0.5301022 ,  2.7095122 , -0.5128987 ,  0.40411705,\n",
              "        0.8016138 ,  1.4341071 ,  1.4435996 ,  0.19029629, -1.5390042 ,\n",
              "        0.03149058,  0.8725746 ,  0.44161925, -1.0933214 ,  2.7320602 ,\n",
              "        2.3003647 , -0.15060052,  0.07999298, -1.0241265 , -1.1906195 ,\n",
              "       -2.0691385 , -1.5770245 ,  1.986842  ,  0.6737797 ,  1.99143   ,\n",
              "        1.2294987 ,  0.47779056,  2.8560998 , -2.1126468 ,  4.9351406 ,\n",
              "       -0.04467113,  2.1459503 ,  0.07049435, -0.5002369 ,  2.297658  ,\n",
              "       -0.83953655, -2.2239597 ,  1.5284165 ,  1.4367661 ,  2.3682845 ,\n",
              "       -0.55549735, -0.66999906, -0.61088765,  2.7382052 , -3.3914328 ,\n",
              "        0.28857926,  0.36217406, -1.5233053 ,  1.1960406 , -3.3123972 ,\n",
              "       -0.5222315 , -1.6192434 , -0.9221479 , -0.93641835,  0.09625745,\n",
              "        0.012085  , -0.4494629 , -0.13161197,  0.6213961 ,  2.3781836 ,\n",
              "       -2.3319569 ,  0.33585137, -0.27932614,  4.8290477 , -2.292312  ,\n",
              "       -0.54634184, -0.66521704,  0.99363434,  1.6756277 , -1.0921764 ],\n",
              "      dtype=float32)"
            ]
          },
          "metadata": {},
          "execution_count": 55
        }
      ]
    },
    {
      "cell_type": "code",
      "source": [
        "# relationships it means that messi is the football king what about cricket\n",
        "vec=model.wv['Messi']-model.wv['Football']+model.wv['Cricket']\n",
        "model.wv.most_similar([vec])"
      ],
      "metadata": {
        "id": "atMvWfB_1rJZ",
        "outputId": "fb97d298-813e-43be-ef84-0bc580875312",
        "colab": {
          "base_uri": "https://localhost:8080/"
        }
      },
      "execution_count": 58,
      "outputs": [
        {
          "output_type": "execute_result",
          "data": {
            "text/plain": [
              "[('innovates', 0.5980559587478638),\n",
              " ('accidently', 0.5837211608886719),\n",
              " ('forklifted', 0.5832726359367371),\n",
              " ('4yo', 0.5783737897872925),\n",
              " ('Zodiac', 0.5625946521759033),\n",
              " ('Woolly', 0.5609624981880188),\n",
              " ('Serafin', 0.5587159991264343),\n",
              " ('Boeing-777', 0.5581234693527222),\n",
              " ('wow', 0.556005597114563),\n",
              " ('Misdirected', 0.5557895302772522)]"
            ]
          },
          "metadata": {},
          "execution_count": 58
        }
      ]
    },
    {
      "cell_type": "code",
      "source": [
        "# relationships it means that king is for man  what about women the results isn't that good because it isn't pretrained model\n",
        "vec=model.wv['King']-model.wv['man']+model.wv['women']\n",
        "model.wv.most_similar([vec])"
      ],
      "metadata": {
        "id": "Eg_8S3yI3yg_",
        "outputId": "25e1f453-20ee-460d-99af-d3017ba06c9a",
        "colab": {
          "base_uri": "https://localhost:8080/"
        }
      },
      "execution_count": 59,
      "outputs": [
        {
          "output_type": "execute_result",
          "data": {
            "text/plain": [
              "[('Women', 0.5707069635391235),\n",
              " ('women', 0.5452072620391846),\n",
              " ('King', 0.5401633381843567),\n",
              " ('clerics', 0.45423635840415955),\n",
              " ('Abdullah', 0.45283252000808716),\n",
              " ('mufti', 0.4466875195503235),\n",
              " ('gender', 0.4440794587135315),\n",
              " ('equality', 0.4435081481933594),\n",
              " ('\\u200bObama', 0.43592071533203125),\n",
              " ('assemblies', 0.4263154864311218)]"
            ]
          },
          "metadata": {},
          "execution_count": 59
        }
      ]
    }
  ]
}